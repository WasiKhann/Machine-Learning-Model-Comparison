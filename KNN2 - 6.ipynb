{
 "cells": [
  {
   "cell_type": "code",
   "execution_count": 1,
   "metadata": {},
   "outputs": [],
   "source": [
    "# Import libraries\n",
    "import pandas as pd\n",
    "from sklearn.model_selection import train_test_split\n",
    "from sklearn.preprocessing import LabelEncoder\n",
    "from sklearn.neighbors import KNeighborsClassifier\n",
    "# Load training and test data\n",
    "train_data = pd.read_csv(\"D:/IBA/ML/Competition/train.csv\")  # Replace \"train.csv\" with your training file path\n",
    "test_data = pd.read_csv(\"D:/IBA/ML/Competition/test.csv\")    # Replace \"test.csv\" with your test file path\n",
    "\n",
    "# Data preprocessing (you may need to customize this based on your dataset)\n",
    "# For simplicity, we'll encode categorical features using LabelEncoder\n",
    "label_encoder = LabelEncoder()\n",
    "categorical_features = [\"ethnicity\", \"gender\", \"icu_admit_source\", \"icu_stay_type\", \"icu_type\", \"apache_3j_bodysystem\", \"apache_2_bodysystem\"]\n",
    "for feature in categorical_features:\n",
    "    train_data[feature] = label_encoder.fit_transform(train_data[feature])\n",
    "    test_data[feature] = label_encoder.transform(test_data[feature])\n",
    "\n",
    "# Replace missing values with means for variables with less than 30% missing values\n",
    "train_data = train_data.fillna(train_data.mean())\n",
    "test_data = test_data.fillna(test_data.mean())\n",
    "\n",
    "# Split the training data into features and target variable\n",
    "X = train_data.drop(columns=[\"RecordID\", \"hospital_death\"])\n",
    "y = train_data[\"hospital_death\"]\n",
    "\n",
    "# Train and make predictions using K-Nearest Neighbor with missing value handling\n",
    "from sklearn.impute import SimpleImputer\n",
    "\n",
    "# Create an imputer instance to handle missing values with a strategy (e.g., mean)\n",
    "imputer = SimpleImputer(strategy=\"mean\")\n",
    "\n",
    "# Impute missing values in the feature matrix X\n",
    "X_imputed = imputer.fit_transform(X)\n",
    "\n",
    "# Train K-Nearest Neighbor on the imputed data with 250 neighbors\n",
    "knn_model = KNeighborsClassifier(n_neighbors=7)\n",
    "knn_model.fit(X_imputed, y)\n",
    "\n",
    "# Impute missing values in the test data\n",
    "test_data_imputed = imputer.transform(test_data.drop(columns=[\"RecordID\"]))\n",
    "\n",
    "# Make predictions using the trained model\n",
    "knn_predictions = knn_model.predict_proba(test_data_imputed)\n",
    "# Create submission DataFrames\n",
    "submission_knn = pd.DataFrame({\"RecordID\": test_data[\"RecordID\"], \"hospital_death\": knn_predictions[:, 1]})\n",
    "\n",
    "# Save submission files to CSV\n",
    "submission_knn.to_csv(\"submission_knn2 - 6.csv\", index=False)"
   ]
  },
  {
   "cell_type": "code",
   "execution_count": null,
   "metadata": {},
   "outputs": [],
   "source": []
  }
 ],
 "metadata": {
  "kernelspec": {
   "display_name": "iml",
   "language": "python",
   "name": "python3"
  },
  "language_info": {
   "codemirror_mode": {
    "name": "ipython",
    "version": 3
   },
   "file_extension": ".py",
   "mimetype": "text/x-python",
   "name": "python",
   "nbconvert_exporter": "python",
   "pygments_lexer": "ipython3",
   "version": "3.10.13"
  },
  "orig_nbformat": 4
 },
 "nbformat": 4,
 "nbformat_minor": 2
}
