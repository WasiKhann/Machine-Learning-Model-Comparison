{
 "cells": [
  {
   "cell_type": "code",
   "execution_count": 16,
   "metadata": {},
   "outputs": [],
   "source": [
    "# Import libraries\n",
    "import pandas as pd\n",
    "from sklearn.model_selection import train_test_split\n",
    "from sklearn.preprocessing import LabelEncoder\n",
    "from sklearn.naive_bayes import GaussianNB"
   ]
  },
  {
   "cell_type": "code",
   "execution_count": 17,
   "metadata": {},
   "outputs": [],
   "source": [
    "# Load training and test data\n",
    "train_data = pd.read_csv(\"D:/IBA/ML/Competition/train.csv\")  # Replace \"train.csv\" with your training file path\n",
    "test_data = pd.read_csv(\"D:/IBA/ML/Competition/test.csv\")    # Replace \"test.csv\" with your test file path\n",
    "\n",
    "# Data preprocessing (you may need to customize this based on your dataset)\n",
    "# For simplicity, we'll encode categorical features using LabelEncoder\n",
    "label_encoder = LabelEncoder()\n",
    "categorical_features = [\"ethnicity\", \"gender\", \"icu_admit_source\", \"icu_stay_type\", \"icu_type\", \"apache_3j_bodysystem\", \"apache_2_bodysystem\"]\n",
    "for feature in categorical_features:\n",
    "    train_data[feature] = label_encoder.fit_transform(train_data[feature])\n",
    "    test_data[feature] = label_encoder.transform(test_data[feature])\n",
    "\n",
    "# Split the training data into features and target variable\n",
    "X = train_data.drop(columns=[\"RecordID\", \"hospital_death\"])\n",
    "y = train_data[\"hospital_death\"]\n"
   ]
  },
  {
   "cell_type": "code",
   "execution_count": 20,
   "metadata": {},
   "outputs": [],
   "source": [
    "# Train and make predictions using Naive Bayes with missing value handling\n",
    "from sklearn.impute import SimpleImputer\n",
    "\n",
    "# Create an imputer instance to handle missing values with a strategy (e.g., mean)\n",
    "imputer = SimpleImputer(strategy=\"mean\")\n",
    "\n",
    "# Impute missing values in the feature matrix X\n",
    "X_imputed = imputer.fit_transform(X)\n",
    "\n",
    "# Train Naive Bayes on the imputed data\n",
    "nb_model = GaussianNB()\n",
    "nb_model.fit(X_imputed, y)\n",
    "\n",
    "# Impute missing values in the test data\n",
    "test_data_imputed = imputer.transform(test_data.drop(columns=[\"RecordID\"]))\n",
    "\n",
    "# Make predictions using the trained model\n",
    "nb_predictions = nb_model.predict_proba(test_data_imputed)"
   ]
  },
  {
   "cell_type": "code",
   "execution_count": 23,
   "metadata": {},
   "outputs": [],
   "source": [
    "# Create submission DataFrames\n",
    "submission_nb = pd.DataFrame({\"RecordID\": test_data[\"RecordID\"], \"hospital_death\": nb_predictions[:, 1]})\n",
    "\n",
    "# Save submission files to CSV\n",
    "submission_nb.to_csv(\"submission_nb.csv\", index=False)"
   ]
  }
 ],
 "metadata": {
  "kernelspec": {
   "display_name": "Python 3",
   "language": "python",
   "name": "python3"
  },
  "language_info": {
   "codemirror_mode": {
    "name": "ipython",
    "version": 3
   },
   "file_extension": ".py",
   "mimetype": "text/x-python",
   "name": "python",
   "nbconvert_exporter": "python",
   "pygments_lexer": "ipython3",
   "version": "3.10.13"
  },
  "orig_nbformat": 4
 },
 "nbformat": 4,
 "nbformat_minor": 2
}
