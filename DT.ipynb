{
 "cells": [
  {
   "cell_type": "code",
   "execution_count": null,
   "metadata": {},
   "outputs": [],
   "source": [
    "# Import libraries\n",
    "import pandas as pd\n",
    "from sklearn.model_selection import train_test_split\n",
    "from sklearn.preprocessing import LabelEncoder\n",
    "from sklearn.tree import DecisionTreeClassifier\n"
   ]
  },
  {
   "cell_type": "code",
   "execution_count": null,
   "metadata": {},
   "outputs": [],
   "source": [
    "# Load training and test data\n",
    "train_data = pd.read_csv(\"D:/IBA/ML/Competition/train.csv\")  # Replace \"train.csv\" with your training file path\n",
    "test_data = pd.read_csv(\"D:/IBA/ML/Competition/test.csv\")    # Replace \"test.csv\" with your test file path\n",
    "\n",
    "# Data preprocessing (you may need to customize this based on your dataset)\n",
    "# For simplicity, we'll encode categorical features using LabelEncoder\n",
    "label_encoder = LabelEncoder()\n",
    "categorical_features = [\"ethnicity\", \"gender\", \"icu_admit_source\", \"icu_stay_type\", \"icu_type\", \"apache_3j_bodysystem\", \"apache_2_bodysystem\"]\n",
    "for feature in categorical_features:\n",
    "    train_data[feature] = label_encoder.fit_transform(train_data[feature])\n",
    "    test_data[feature] = label_encoder.transform(test_data[feature])\n",
    "\n",
    "# Split the training data into features and target variable\n",
    "X = train_data.drop(columns=[\"RecordID\", \"hospital_death\"])\n",
    "y = train_data[\"hospital_death\"]\n"
   ]
  },
  {
   "cell_type": "code",
   "execution_count": null,
   "metadata": {},
   "outputs": [],
   "source": [
    "# Train and make predictions using Decision Tree\n",
    "dt_model = DecisionTreeClassifier()\n",
    "dt_model.fit(X, y)\n",
    "dt_predictions = dt_model.predict_proba(test_data.drop(columns=[\"RecordID\"]))"
   ]
  },
  {
   "cell_type": "code",
   "execution_count": null,
   "metadata": {},
   "outputs": [],
   "source": [
    "# Create submission DataFrames\n",
    "submission_dt = pd.DataFrame({\"RecordID\": test_data[\"RecordID\"], \"hospital_death\": dt_predictions[:, 1]})\n",
    "\n",
    "# Save submission files to CSV\n",
    "submission_dt.to_csv(\"submission_dt.csv\", index=False)"
   ]
  }
 ],
 "metadata": {
  "language_info": {
   "name": "python"
  },
  "orig_nbformat": 4
 },
 "nbformat": 4,
 "nbformat_minor": 2
}
